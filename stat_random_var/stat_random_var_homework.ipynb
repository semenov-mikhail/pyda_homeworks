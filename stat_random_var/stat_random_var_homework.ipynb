{
 "cells": [
  {
   "cell_type": "markdown",
   "id": "9def01d1",
   "metadata": {},
   "source": [
    "# Домашнее задание к лекции «Случайные события. Случайные величины»\n",
    "\n",
    "Смоделировать игру против лотерейного автомата типа “777”. Игрок платит 1 руб., после чего выпадает случайное целое число, равномерно распределенное от 0 до 999. При некоторых значениях числа игрок получает выигрыш.\n",
    "\n",
    "777: 200 руб.\n",
    "999: 100 руб.\n",
    "555: 50 руб.\n",
    "333: 15 руб.\n",
    "111: 10 руб.\n",
    "*77: 5 руб.\n",
    "**7: 3 руб.\n",
    "*00: 2 руб.\n",
    "**0: 1 руб.\n",
    "* любая цифра\n",
    "\n",
    "Вопросы:\n",
    "\n",
    "Выгодна ли игра игроку?\n",
    "Сколько в среднем приобретает или теряет игрок за одну игру?\n",
    "\n",
    "**Дополнительное задание повышенной сложности. **\n",
    "\n",
    "Теоретически рассчитать средний выигрыш (проигрыш) и сравнить с результатами моделирования"
   ]
  },
  {
   "cell_type": "code",
   "execution_count": 1,
   "id": "ebf5e00f",
   "metadata": {},
   "outputs": [],
   "source": [
    "import numpy as np"
   ]
  },
  {
   "cell_type": "code",
   "execution_count": 2,
   "id": "48d3d6be",
   "metadata": {},
   "outputs": [],
   "source": [
    "def prize_check(random_num): #Проверяем выигрыш\n",
    "    if random_num == 777:\n",
    "        return 200\n",
    "    elif random_num == 999:\n",
    "        return 100\n",
    "    elif random_num == 555:\n",
    "        return 50\n",
    "    elif random_num == 333:\n",
    "        return 15\n",
    "    elif random_num == 111:\n",
    "        return 10\n",
    "    elif random_num % 10 == 7:\n",
    "        return 3\n",
    "    elif random_num > 99 and random_num % 100 == 0:\n",
    "        return 2\n",
    "    elif random_num > 9 and random_num % 10 == 0 or random_num == 0:\n",
    "        return 1\n",
    "    return 0"
   ]
  },
  {
   "cell_type": "code",
   "execution_count": 4,
   "id": "9b881efc",
   "metadata": {},
   "outputs": [
    {
     "name": "stdout",
     "output_type": "stream",
     "text": [
      "Игра не выгодна\n",
      "Потрачено на игру:  1000000 руб.\n",
      "Выигрыш:  778837 руб.\n",
      "Проигрыш:  -221163 руб.\n",
      "Вероятность из моделирования:  0.778837\n"
     ]
    }
   ],
   "source": [
    "trials = 1000000 # Количество попыток\n",
    "win = 0 #сумма выигрыша\n",
    "\n",
    "for i in range(trials):\n",
    "    random_num = np.random.randint(0, 1000)\n",
    "    if prize_check(random_num): \n",
    "        win += prize_check(random_num)\n",
    "\n",
    "loss = win - trials        \n",
    "p_monte_carlo = win / trials\n",
    "\n",
    "if loss > 0:\n",
    "    print('Игра выгодна')\n",
    "else:\n",
    "    print('Игра не выгодна')\n",
    "        \n",
    "print('Потрачено на игру: ', trials, 'руб.')\n",
    "print('Выигрыш: ', win, 'руб.')\n",
    "print('Проигрыш: ', loss, 'руб.')\n",
    "print('Вероятность из моделирования: ', p_monte_carlo)"
   ]
  },
  {
   "cell_type": "code",
   "execution_count": 8,
   "id": "5358a6f1",
   "metadata": {},
   "outputs": [
    {
     "name": "stdout",
     "output_type": "stream",
     "text": [
      "Игрок в среднем теряет за игру: -21747.95 руб. cо 100000 руб.\n"
     ]
    }
   ],
   "source": [
    "#Считаем средний выигрыш (проигрыш)\n",
    "games = 100\n",
    "result_list = []\n",
    "\n",
    "for x in range(games):\n",
    "    trials = 100000    # Количество попыток\n",
    "    result = 0       #сумма выигрыша(проигрыша) на игру\n",
    "\n",
    "    for i in range(trials):\n",
    "        random_num = np.random.randint(0, 1000)\n",
    "        if prize_check(random_num): \n",
    "            result += prize_check(random_num)   \n",
    "    profit = result - trials\n",
    "    result_list.append(profit)\n",
    "\n",
    "average_result = sum(result_list) / games\n",
    "\n",
    "if average_result > 0:\n",
    "    print('Игрок в среднем приобретает за игру:', average_result, 'руб. cо', trials, 'руб.')\n",
    "else:\n",
    "    print('Игрок в среднем теряет за игру:', average_result, 'руб. cо', trials, 'руб.')"
   ]
  }
 ],
 "metadata": {
  "kernelspec": {
   "display_name": "Python 3 (ipykernel)",
   "language": "python",
   "name": "python3"
  },
  "language_info": {
   "codemirror_mode": {
    "name": "ipython",
    "version": 3
   },
   "file_extension": ".py",
   "mimetype": "text/x-python",
   "name": "python",
   "nbconvert_exporter": "python",
   "pygments_lexer": "ipython3",
   "version": "3.9.7"
  }
 },
 "nbformat": 4,
 "nbformat_minor": 5
}
