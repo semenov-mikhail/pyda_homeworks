{
 "cells": [
  {
   "cell_type": "markdown",
   "id": "785b24ae",
   "metadata": {},
   "source": [
    "# Задание 1\n",
    "\n",
    "Печатные газеты использовали свой формат дат для каждого выпуска. Для каждой газеты из списка напишите формат указанной даты для перевода в объект datetime:\n",
    "The Moscow Times - Wednesday, October 2, 2002\n",
    "The Guardian - Friday, 11.10.13\n",
    "Daily News - Thursday, 18 August 1977"
   ]
  },
  {
   "cell_type": "code",
   "execution_count": 2,
   "id": "63f337b6",
   "metadata": {},
   "outputs": [],
   "source": [
    "from datetime import datetime as dt"
   ]
  },
  {
   "cell_type": "code",
   "execution_count": 2,
   "id": "9ff54bd5",
   "metadata": {},
   "outputs": [],
   "source": [
    "msc_times = 'Wednesday, October 2, 2002'\n",
    "guardian = 'Friday, 11.10.13'\n",
    "daily_news = 'Thursday, 18 August 1977'"
   ]
  },
  {
   "cell_type": "code",
   "execution_count": 3,
   "id": "6f6e6f2c",
   "metadata": {},
   "outputs": [
    {
     "name": "stdout",
     "output_type": "stream",
     "text": [
      "2002-10-02 00:00:00\n"
     ]
    }
   ],
   "source": [
    "print(dt.strptime(msc_times, '%A, %B %d, %Y')) #The Moscow Times"
   ]
  },
  {
   "cell_type": "code",
   "execution_count": 4,
   "id": "84f0c6c8",
   "metadata": {},
   "outputs": [
    {
     "name": "stdout",
     "output_type": "stream",
     "text": [
      "2013-10-11 00:00:00\n"
     ]
    }
   ],
   "source": [
    "print(dt.strptime(guardian, '%A, %d.%m.%y')) #The Guardian"
   ]
  },
  {
   "cell_type": "code",
   "execution_count": 5,
   "id": "8897fafa",
   "metadata": {},
   "outputs": [
    {
     "name": "stdout",
     "output_type": "stream",
     "text": [
      "1977-08-18 00:00:00\n"
     ]
    }
   ],
   "source": [
    "print(dt.strptime(daily_news, '%A, %d %B %Y')) #Daily News"
   ]
  },
  {
   "cell_type": "markdown",
   "id": "6ac451d4",
   "metadata": {},
   "source": [
    "# Задание 2\n",
    "\n",
    "Дан поток дат в формате YYYY-MM-DD, в которых встречаются некорректные значения:\n",
    "stream = ['2018-04-02', '2018-02-29', '2018-19-02']\n",
    "Напишите функцию, которая проверяет эти даты на корректность. Т. е. для каждой даты возвращает True (дата корректна) или False (некорректная дата)."
   ]
  },
  {
   "cell_type": "code",
   "execution_count": 6,
   "id": "b473b495",
   "metadata": {},
   "outputs": [],
   "source": [
    "stream = ['2018-04-02', '2018-02-29', '2018-19-02']"
   ]
  },
  {
   "cell_type": "code",
   "execution_count": 7,
   "id": "73dbb291",
   "metadata": {},
   "outputs": [],
   "source": [
    "def parse_date(date, d_format = '%Y-%m-%d'):\n",
    "    try:\n",
    "        dt.strptime(date, d_format)\n",
    "        return True\n",
    "    except:\n",
    "        return False"
   ]
  },
  {
   "cell_type": "code",
   "execution_count": 8,
   "id": "eace4c9d",
   "metadata": {},
   "outputs": [
    {
     "name": "stdout",
     "output_type": "stream",
     "text": [
      "True\n",
      "False\n",
      "False\n"
     ]
    }
   ],
   "source": [
    "for date in stream:\n",
    "    if parse_date(date):\n",
    "        print(True)\n",
    "    else:\n",
    "        print(False)"
   ]
  },
  {
   "cell_type": "markdown",
   "id": "eb98777e",
   "metadata": {},
   "source": [
    "# Задание 3\n",
    "\n",
    "Напишите функцию date_range, которая возвращает список дат за период от start_date до end_date. Даты должны вводиться в формате YYYY-MM-DD. В случае неверного формата или при start_date > end_date должен возвращаться пустой список."
   ]
  },
  {
   "cell_type": "code",
   "execution_count": 3,
   "id": "fc6b8673",
   "metadata": {},
   "outputs": [],
   "source": [
    "from datetime import timedelta"
   ]
  },
  {
   "cell_type": "code",
   "execution_count": 10,
   "id": "6a023c74",
   "metadata": {},
   "outputs": [],
   "source": [
    "def date_range(start_date, end_date, d_format = '%Y-%m-%d'):\n",
    "\n",
    "    try:\n",
    "        start_date_dt = dt.strptime(start_date, d_format)\n",
    "        end_date_dt = dt.strptime(end_date, d_format)\n",
    "        if start_date_dt <= end_date_dt:\n",
    "            current_dt = start_date_dt \n",
    "            while current_dt <= end_date_dt:\n",
    "                print(current_dt.strftime(d_format))\n",
    "                current_dt += timedelta(days=1)\n",
    "        else:\n",
    "            print(list())\n",
    "    except:\n",
    "        print(list())"
   ]
  },
  {
   "cell_type": "code",
   "execution_count": 22,
   "id": "0d819366",
   "metadata": {},
   "outputs": [],
   "source": [
    "#доработано с учетом рекомендации от преподавателя\n",
    "def date_range(start_date, end_date, d_format = '%Y-%m-%d'):\n",
    "    try:\n",
    "        start_date_dt = dt.strptime(start_date, d_format)\n",
    "        end_date_dt = dt.strptime(end_date, d_format)\n",
    "    except:\n",
    "        return []\n",
    "    \n",
    "    if start_date_dt <= end_date_dt:\n",
    "            current_dt = start_date_dt \n",
    "            while current_dt <= end_date_dt:\n",
    "                print(current_dt.strftime(d_format))\n",
    "                current_dt += timedelta(days=1)\n",
    "    else:\n",
    "        return []"
   ]
  },
  {
   "cell_type": "code",
   "execution_count": 13,
   "id": "98c6d045",
   "metadata": {},
   "outputs": [
    {
     "name": "stdout",
     "output_type": "stream",
     "text": [
      "2022-01-01\n",
      "2022-01-02\n",
      "2022-01-03\n",
      "2022-01-04\n",
      "2022-01-05\n",
      "2022-01-06\n",
      "2022-01-07\n",
      "2022-01-08\n",
      "2022-01-09\n",
      "2022-01-10\n"
     ]
    }
   ],
   "source": [
    "date_range('2022-01-01', '2022-01-10')"
   ]
  },
  {
   "cell_type": "code",
   "execution_count": 24,
   "id": "c6d5415a",
   "metadata": {},
   "outputs": [
    {
     "data": {
      "text/plain": [
       "[1]"
      ]
     },
     "execution_count": 24,
     "metadata": {},
     "output_type": "execute_result"
    }
   ],
   "source": [
    "date_range('2022-31-10', '2022-01-10')"
   ]
  },
  {
   "cell_type": "markdown",
   "id": "cfadefa5",
   "metadata": {},
   "source": [
    "# Задание 4 (необязательное)\n",
    "Задание:\n",
    "\n",
    "1. Что значит ошибка list index out of range?\n",
    "2. Почему при первом запуске функция работает корректно, а при втором - нет?"
   ]
  },
  {
   "cell_type": "code",
   "execution_count": 13,
   "id": "6e3ea0cd",
   "metadata": {},
   "outputs": [],
   "source": [
    "DEFAULT_USER_COUNT = 3\n",
    "\n",
    "def delete_and_return_last_user(region, default_list=['A100', 'A101', 'A102']):\n",
    "    \"\"\"\n",
    "    Удаляет из списка default_list последнего пользователя\n",
    "    и возвращает ID нового последнего пользователя.\n",
    "    \"\"\"\n",
    "    element_to_delete = default_list[-1]\n",
    "    default_list.remove(element_to_delete)\n",
    "    return default_list[DEFAULT_USER_COUNT-2]"
   ]
  },
  {
   "cell_type": "code",
   "execution_count": 15,
   "id": "dcbc7a7b",
   "metadata": {},
   "outputs": [
    {
     "ename": "IndexError",
     "evalue": "list index out of range",
     "output_type": "error",
     "traceback": [
      "\u001b[0;31m---------------------------------------------------------------------------\u001b[0m",
      "\u001b[0;31mIndexError\u001b[0m                                Traceback (most recent call last)",
      "\u001b[0;32m/var/folders/sb/0phj1ghs6t3fp8jvbp96d98h0000gn/T/ipykernel_90346/1688118135.py\u001b[0m in \u001b[0;36m<module>\u001b[0;34m\u001b[0m\n\u001b[0;32m----> 1\u001b[0;31m \u001b[0mdelete_and_return_last_user\u001b[0m\u001b[0;34m(\u001b[0m\u001b[0;36m1\u001b[0m\u001b[0;34m)\u001b[0m\u001b[0;34m\u001b[0m\u001b[0;34m\u001b[0m\u001b[0m\n\u001b[0m",
      "\u001b[0;32m/var/folders/sb/0phj1ghs6t3fp8jvbp96d98h0000gn/T/ipykernel_90346/1062274543.py\u001b[0m in \u001b[0;36mdelete_and_return_last_user\u001b[0;34m(region, default_list)\u001b[0m\n\u001b[1;32m      8\u001b[0m     \u001b[0melement_to_delete\u001b[0m \u001b[0;34m=\u001b[0m \u001b[0mdefault_list\u001b[0m\u001b[0;34m[\u001b[0m\u001b[0;34m-\u001b[0m\u001b[0;36m1\u001b[0m\u001b[0;34m]\u001b[0m\u001b[0;34m\u001b[0m\u001b[0;34m\u001b[0m\u001b[0m\n\u001b[1;32m      9\u001b[0m     \u001b[0mdefault_list\u001b[0m\u001b[0;34m.\u001b[0m\u001b[0mremove\u001b[0m\u001b[0;34m(\u001b[0m\u001b[0melement_to_delete\u001b[0m\u001b[0;34m)\u001b[0m\u001b[0;34m\u001b[0m\u001b[0;34m\u001b[0m\u001b[0m\n\u001b[0;32m---> 10\u001b[0;31m     \u001b[0;32mreturn\u001b[0m \u001b[0mdefault_list\u001b[0m\u001b[0;34m[\u001b[0m\u001b[0mDEFAULT_USER_COUNT\u001b[0m\u001b[0;34m-\u001b[0m\u001b[0;36m2\u001b[0m\u001b[0;34m]\u001b[0m\u001b[0;34m\u001b[0m\u001b[0;34m\u001b[0m\u001b[0m\n\u001b[0m",
      "\u001b[0;31mIndexError\u001b[0m: list index out of range"
     ]
    }
   ],
   "source": [
    "delete_and_return_last_user(1)"
   ]
  },
  {
   "cell_type": "markdown",
   "id": "547aacc0",
   "metadata": {},
   "source": [
    "#Ответ\n",
    "\n",
    "1. Задание 1\n",
    "\n",
    "Попытка обратиться к элементу списка с несуществующим индексом.\n",
    "\n",
    "2. Задание 2\n",
    "\n",
    "Когда мы запускаем ф-ию первый раз список содержит 3 элемента с индексами [0], [1], [2]. C помощью метода remove мы удаляем последнее значение из списка и получаем список с индексами [0] и [1]. Далее возвращаем результат default_list[1] и получаем требуемый результат.\n",
    "\n",
    "При повторном запуске у нас в списке 2 элемента с индексами 0 и 1. Когда мы возвращаем результат, то происходит обращение к индексу default_list[1], но мы перед этим удалили элемент с индексом [1] и в списке остался только элемент с индексом [0]. Поэтому при обращении к несуществующему индексу и возникает ошибка. "
   ]
  }
 ],
 "metadata": {
  "kernelspec": {
   "display_name": "Python 3 (ipykernel)",
   "language": "python",
   "name": "python3"
  },
  "language_info": {
   "codemirror_mode": {
    "name": "ipython",
    "version": 3
   },
   "file_extension": ".py",
   "mimetype": "text/x-python",
   "name": "python",
   "nbconvert_exporter": "python",
   "pygments_lexer": "ipython3",
   "version": "3.9.12"
  }
 },
 "nbformat": 4,
 "nbformat_minor": 5
}
