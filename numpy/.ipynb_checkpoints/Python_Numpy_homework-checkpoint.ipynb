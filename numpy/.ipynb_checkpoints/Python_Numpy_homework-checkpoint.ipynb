{
 "cells": [
  {
   "cell_type": "markdown",
   "id": "6345a0f0",
   "metadata": {},
   "source": [
    "# Домашнее задание «Библиотека numpy. Вычислительные задачи "
   ]
  },
  {
   "cell_type": "markdown",
   "id": "44964b7d",
   "metadata": {},
   "source": [
    "# Задание 1\n",
    "Создайте numpy array с элементами от числа N до 0 (например, для N = 10 это будет array([9, 8, 7, 6, 5, 4, 3, 2, 1, 0]))."
   ]
  },
  {
   "cell_type": "code",
   "execution_count": null,
   "id": "0b40adc9",
   "metadata": {},
   "outputs": [],
   "source": [
    "import numpy as np"
   ]
  },
  {
   "cell_type": "code",
   "execution_count": null,
   "id": "12cedf9d",
   "metadata": {},
   "outputs": [],
   "source": [
    "my_arr = np.arange(0, 16)"
   ]
  },
  {
   "cell_type": "code",
   "execution_count": null,
   "id": "820c7b98",
   "metadata": {},
   "outputs": [],
   "source": [
    "reversed_arr = my_arr[::-1]\n",
    "reversed_arr"
   ]
  },
  {
   "cell_type": "markdown",
   "id": "41096ef9",
   "metadata": {},
   "source": [
    "# Задание 2\n",
    "Создайте диагональную матрицу с элементами от N до 0. Посчитайте сумму ее значений на диагонали."
   ]
  },
  {
   "cell_type": "code",
   "execution_count": null,
   "id": "467ce8c0",
   "metadata": {},
   "outputs": [],
   "source": [
    "a = reversed_arr.reshape(4, 4)\n",
    "a"
   ]
  },
  {
   "cell_type": "code",
   "execution_count": null,
   "id": "f1b39190",
   "metadata": {
    "scrolled": true
   },
   "outputs": [],
   "source": [
    "b = np.asarray(a)\n",
    "print('Сумма значений по диагонали: ', np.trace(b))\n",
    "print('Элементы по диагонали: ', np.diagonal(b))"
   ]
  },
  {
   "cell_type": "markdown",
   "id": "09222ace",
   "metadata": {},
   "source": [
    "# Задание 3\n",
    "Решите систему уравнений:\n",
    "4x + 2y + z = 4\n",
    "x + 3y = 12\n",
    "5y + 4z = -3"
   ]
  },
  {
   "cell_type": "code",
   "execution_count": null,
   "id": "6b73a692",
   "metadata": {},
   "outputs": [],
   "source": [
    "a = np.array( [ [4, 2, 1], [1, 3], [5, 4] ] )"
   ]
  },
  {
   "cell_type": "code",
   "execution_count": null,
   "id": "cbb516cb",
   "metadata": {},
   "outputs": [],
   "source": [
    "b = np.array( [4, 12, -3] )"
   ]
  },
  {
   "cell_type": "code",
   "execution_count": null,
   "id": "387dc884",
   "metadata": {},
   "outputs": [],
   "source": [
    "from numpy import linalg"
   ]
  },
  {
   "cell_type": "code",
   "execution_count": null,
   "id": "9e7e9d0a",
   "metadata": {},
   "outputs": [],
   "source": [
    "linalg.solve(a, b)"
   ]
  },
  {
   "cell_type": "code",
   "execution_count": null,
   "id": "69d0e659",
   "metadata": {},
   "outputs": [],
   "source": [
    "np.allclose( np.dot(a, linalg.solve(a, b)), b )"
   ]
  }
 ],
 "metadata": {
  "kernelspec": {
   "display_name": "Python 3 (ipykernel)",
   "language": "python",
   "name": "python3"
  },
  "language_info": {
   "codemirror_mode": {
    "name": "ipython",
    "version": 3
   },
   "file_extension": ".py",
   "mimetype": "text/x-python",
   "name": "python",
   "nbconvert_exporter": "python",
   "pygments_lexer": "ipython3",
   "version": "3.9.12"
  }
 },
 "nbformat": 4,
 "nbformat_minor": 5
}
