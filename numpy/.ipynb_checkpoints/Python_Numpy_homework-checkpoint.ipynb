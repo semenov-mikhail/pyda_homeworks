{
 "cells": [
  {
   "cell_type": "markdown",
   "id": "6345a0f0",
   "metadata": {},
   "source": [
    "# Домашнее задание «Библиотека numpy. Вычислительные задачи "
   ]
  },
  {
   "cell_type": "markdown",
   "id": "44964b7d",
   "metadata": {},
   "source": [
    "# Задание 1\n",
    "Создайте numpy array с элементами от числа N до 0 (например, для N = 10 это будет array([9, 8, 7, 6, 5, 4, 3, 2, 1, 0]))."
   ]
  },
  {
   "cell_type": "code",
   "execution_count": 1,
   "id": "0b40adc9",
   "metadata": {},
   "outputs": [],
   "source": [
    "import numpy as np"
   ]
  },
  {
   "cell_type": "code",
   "execution_count": 19,
   "id": "12cedf9d",
   "metadata": {},
   "outputs": [],
   "source": [
    "my_arr = np.arange(0, 16)"
   ]
  },
  {
   "cell_type": "code",
   "execution_count": 20,
   "id": "820c7b98",
   "metadata": {},
   "outputs": [
    {
     "data": {
      "text/plain": [
       "array([15, 14, 13, 12, 11, 10,  9,  8,  7,  6,  5,  4,  3,  2,  1,  0])"
      ]
     },
     "execution_count": 20,
     "metadata": {},
     "output_type": "execute_result"
    }
   ],
   "source": [
    "reversed_arr = my_arr[::-1]\n",
    "reversed_arr"
   ]
  },
  {
   "cell_type": "markdown",
   "id": "41096ef9",
   "metadata": {},
   "source": [
    "# Задание 2\n",
    "Создайте диагональную матрицу с элементами от N до 0. Посчитайте сумму ее значений на диагонали."
   ]
  },
  {
   "cell_type": "code",
   "execution_count": 28,
   "id": "467ce8c0",
   "metadata": {},
   "outputs": [
    {
     "data": {
      "text/plain": [
       "array([[15, 14, 13, 12],\n",
       "       [11, 10,  9,  8],\n",
       "       [ 7,  6,  5,  4],\n",
       "       [ 3,  2,  1,  0]])"
      ]
     },
     "execution_count": 28,
     "metadata": {},
     "output_type": "execute_result"
    }
   ],
   "source": [
    "a = reversed_arr.reshape(4, 4)\n",
    "a"
   ]
  },
  {
   "cell_type": "code",
   "execution_count": 30,
   "id": "f1b39190",
   "metadata": {
    "scrolled": true
   },
   "outputs": [
    {
     "name": "stdout",
     "output_type": "stream",
     "text": [
      "Сумма значений по диагонали:  30\n",
      "Элементы по диагонали:  [15 10  5  0]\n"
     ]
    }
   ],
   "source": [
    "b = np.asarray(a)\n",
    "print('Сумма значений по диагонали: ', np.trace(b))\n",
    "print('Элементы по диагонали: ', np.diagonal(b))"
   ]
  },
  {
   "cell_type": "markdown",
   "id": "09222ace",
   "metadata": {},
   "source": [
    "# Задание 3\n",
    "Решите систему уравнений:\n",
    "4x + 2y + z = 4\n",
    "x + 3y = 12\n",
    "5y + 4z = -3"
   ]
  }
 ],
 "metadata": {
  "kernelspec": {
   "display_name": "Python 3 (ipykernel)",
   "language": "python",
   "name": "python3"
  },
  "language_info": {
   "codemirror_mode": {
    "name": "ipython",
    "version": 3
   },
   "file_extension": ".py",
   "mimetype": "text/x-python",
   "name": "python",
   "nbconvert_exporter": "python",
   "pygments_lexer": "ipython3",
   "version": "3.9.7"
  }
 },
 "nbformat": 4,
 "nbformat_minor": 5
}
