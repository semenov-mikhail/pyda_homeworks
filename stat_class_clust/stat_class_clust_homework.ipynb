{
 "cells": [
  {
   "cell_type": "markdown",
   "id": "9325dee8",
   "metadata": {},
   "source": [
    "# Домашнее задание к лекции «Задачи классификации и кластеризации»\n",
    "\n",
    "**Задание**\n",
    "\n",
    "1. Возьмите датасет с цветками iris’а (функция load_iris из библиотеки sklearn)\n",
    "2. Оставьте два признака - sepal_length и sepal_width и целевую переменную - variety\n",
    "3. Разделите данные на выборку для обучения и тестирования\n",
    "4. Постройте модель LDA\n",
    "5. Визуализируйте предсказания для тестовой выборки и центры классов\n",
    "6. Отбросьте целевую переменную и оставьте только два признака - sepal_length и sepal_width\n",
    "7. Подберите оптимальное число кластеров для алгоритма kmeans и визуализируйте полученную кластеризацию"
   ]
  },
  {
   "cell_type": "code",
   "execution_count": 1,
   "id": "6a7de99d",
   "metadata": {},
   "outputs": [],
   "source": [
    "from sklearn.datasets import load_iris\n",
    "import pandas as pd\n",
    "import numpy as np\n",
    "import matplotlib.pyplot as plt"
   ]
  },
  {
   "cell_type": "code",
   "execution_count": 2,
   "id": "627f57d0",
   "metadata": {},
   "outputs": [],
   "source": [
    "# 1. Загружаем датасет с цветками Ириса\n",
    "iris = load_iris()"
   ]
  },
  {
   "cell_type": "code",
   "execution_count": 3,
   "id": "43cc867d",
   "metadata": {},
   "outputs": [],
   "source": [
    "# загружаем данные в датафрейм\n",
    "data = pd.DataFrame(iris.data, columns=iris.feature_names)"
   ]
  },
  {
   "cell_type": "code",
   "execution_count": 4,
   "id": "8380f92c",
   "metadata": {},
   "outputs": [
    {
     "data": {
      "text/html": [
       "<div>\n",
       "<style scoped>\n",
       "    .dataframe tbody tr th:only-of-type {\n",
       "        vertical-align: middle;\n",
       "    }\n",
       "\n",
       "    .dataframe tbody tr th {\n",
       "        vertical-align: top;\n",
       "    }\n",
       "\n",
       "    .dataframe thead th {\n",
       "        text-align: right;\n",
       "    }\n",
       "</style>\n",
       "<table border=\"1\" class=\"dataframe\">\n",
       "  <thead>\n",
       "    <tr style=\"text-align: right;\">\n",
       "      <th></th>\n",
       "      <th>sepal length (cm)</th>\n",
       "      <th>sepal width (cm)</th>\n",
       "    </tr>\n",
       "  </thead>\n",
       "  <tbody>\n",
       "    <tr>\n",
       "      <th>0</th>\n",
       "      <td>5.1</td>\n",
       "      <td>3.5</td>\n",
       "    </tr>\n",
       "    <tr>\n",
       "      <th>1</th>\n",
       "      <td>4.9</td>\n",
       "      <td>3.0</td>\n",
       "    </tr>\n",
       "    <tr>\n",
       "      <th>2</th>\n",
       "      <td>4.7</td>\n",
       "      <td>3.2</td>\n",
       "    </tr>\n",
       "    <tr>\n",
       "      <th>3</th>\n",
       "      <td>4.6</td>\n",
       "      <td>3.1</td>\n",
       "    </tr>\n",
       "    <tr>\n",
       "      <th>4</th>\n",
       "      <td>5.0</td>\n",
       "      <td>3.6</td>\n",
       "    </tr>\n",
       "  </tbody>\n",
       "</table>\n",
       "</div>"
      ],
      "text/plain": [
       "   sepal length (cm)  sepal width (cm)\n",
       "0                5.1               3.5\n",
       "1                4.9               3.0\n",
       "2                4.7               3.2\n",
       "3                4.6               3.1\n",
       "4                5.0               3.6"
      ]
     },
     "execution_count": 4,
     "metadata": {},
     "output_type": "execute_result"
    }
   ],
   "source": [
    "#2. Оставляем два признака - sepal_length и sepal_width\n",
    "to_drop = ['petal length (cm)','petal width (cm)']\n",
    "data.drop(to_drop, axis=1, inplace=True)\n",
    "data.head()"
   ]
  },
  {
   "cell_type": "code",
   "execution_count": 5,
   "id": "7eea87c3",
   "metadata": {},
   "outputs": [
    {
     "data": {
      "text/plain": [
       "array([0, 0, 0, 0, 0, 0, 0, 0, 0, 0, 0, 0, 0, 0, 0, 0, 0, 0, 0, 0, 0, 0,\n",
       "       0, 0, 0, 0, 0, 0, 0, 0, 0, 0, 0, 0, 0, 0, 0, 0, 0, 0, 0, 0, 0, 0,\n",
       "       0, 0, 0, 0, 0, 0, 1, 1, 1, 1, 1, 1, 1, 1, 1, 1, 1, 1, 1, 1, 1, 1,\n",
       "       1, 1, 1, 1, 1, 1, 1, 1, 1, 1, 1, 1, 1, 1, 1, 1, 1, 1, 1, 1, 1, 1,\n",
       "       1, 1, 1, 1, 1, 1, 1, 1, 1, 1, 1, 1, 2, 2, 2, 2, 2, 2, 2, 2, 2, 2,\n",
       "       2, 2, 2, 2, 2, 2, 2, 2, 2, 2, 2, 2, 2, 2, 2, 2, 2, 2, 2, 2, 2, 2,\n",
       "       2, 2, 2, 2, 2, 2, 2, 2, 2, 2, 2, 2, 2, 2, 2, 2, 2, 2])"
      ]
     },
     "execution_count": 5,
     "metadata": {},
     "output_type": "execute_result"
    }
   ],
   "source": [
    "# и целевую переменную - variety\n",
    "variety = iris.target\n",
    "variety"
   ]
  },
  {
   "cell_type": "code",
   "execution_count": 6,
   "id": "8abcdb8a",
   "metadata": {},
   "outputs": [],
   "source": [
    "# 3. разделяем выборку на тренировочную и тестовую\n",
    "from sklearn.model_selection import train_test_split\n",
    "X_train, X_test, y_train, y_test = train_test_split(data, variety, random_state=42)"
   ]
  },
  {
   "cell_type": "code",
   "execution_count": 7,
   "id": "54b61c94",
   "metadata": {},
   "outputs": [],
   "source": [
    "# 4. Строим модель LDA\n",
    "from sklearn.discriminant_analysis import LinearDiscriminantAnalysis"
   ]
  },
  {
   "cell_type": "code",
   "execution_count": 8,
   "id": "f69dfcaf",
   "metadata": {},
   "outputs": [],
   "source": [
    "lda = LinearDiscriminantAnalysis()"
   ]
  },
  {
   "cell_type": "code",
   "execution_count": 9,
   "id": "57074ba5",
   "metadata": {},
   "outputs": [
    {
     "data": {
      "text/plain": [
       "LinearDiscriminantAnalysis()"
      ]
     },
     "execution_count": 9,
     "metadata": {},
     "output_type": "execute_result"
    }
   ],
   "source": [
    "# обучаем\n",
    "lda.fit(X_train, y_train)"
   ]
  },
  {
   "cell_type": "code",
   "execution_count": 10,
   "id": "0bbbc97d",
   "metadata": {},
   "outputs": [
    {
     "data": {
      "text/plain": [
       "array([1, 0, 2, 1, 2, 0, 1, 2, 1, 1, 2, 0, 0, 0, 0, 2, 2, 1, 1, 2, 0, 1,\n",
       "       0, 2, 2, 2, 2, 2, 0, 0, 0, 0, 2, 0, 0, 2, 2, 0])"
      ]
     },
     "execution_count": 10,
     "metadata": {},
     "output_type": "execute_result"
    }
   ],
   "source": [
    "# делаем прогноз на тестовой выборке\n",
    "lda.predict(X_test)"
   ]
  },
  {
   "cell_type": "code",
   "execution_count": 11,
   "id": "b491fb52",
   "metadata": {},
   "outputs": [],
   "source": [
    "# расчитываем точность\n",
    "from sklearn.metrics import accuracy_score"
   ]
  },
  {
   "cell_type": "code",
   "execution_count": 12,
   "id": "bacdb999",
   "metadata": {},
   "outputs": [
    {
     "data": {
      "text/plain": [
       "0.868421052631579"
      ]
     },
     "execution_count": 12,
     "metadata": {},
     "output_type": "execute_result"
    }
   ],
   "source": [
    "accuracy_score(y_test, lda.predict(X_test))"
   ]
  },
  {
   "cell_type": "code",
   "execution_count": 13,
   "id": "4a999bbd",
   "metadata": {},
   "outputs": [
    {
     "data": {
      "text/plain": [
       "array([[-5.83421967,  8.36880937],\n",
       "       [ 1.5215595 , -3.81430503],\n",
       "       [ 3.81202284, -3.79343242]])"
      ]
     },
     "execution_count": 13,
     "metadata": {},
     "output_type": "execute_result"
    }
   ],
   "source": [
    "# и коэффициенты дискриминатных линий\n",
    "lda.coef_"
   ]
  },
  {
   "cell_type": "code",
   "execution_count": 14,
   "id": "3fab49d5",
   "metadata": {},
   "outputs": [
    {
     "data": {
      "text/plain": [
       "<matplotlib.collections.PathCollection at 0x7fc1bdae61f0>"
      ]
     },
     "execution_count": 14,
     "metadata": {},
     "output_type": "execute_result"
    },
    {
     "data": {
      "image/png": "[encoded data removed]",
      "text/plain": [
       "<Figure size 432x288 with 1 Axes>"
      ]
     },
     "metadata": {
      "needs_background": "light"
     },
     "output_type": "display_data"
    }
   ],
   "source": [
    "#5. Визуалзируем предсказания для тестовой выборки\n",
    "plt.scatter(X_test['sepal length (cm)'], X_test['sepal width (cm)'], c=lda.predict(X_test))\n",
    "# и центры классов\n",
    "plt.scatter(lda.means_[:, 0], lda.means_[:, 1], c='r', s=150, marker='*')"
   ]
  },
  {
   "cell_type": "code",
   "execution_count": 15,
   "id": "46bff49b",
   "metadata": {},
   "outputs": [],
   "source": [
    "# приводим данные к единому масштабу\n",
    "from sklearn.preprocessing import StandardScaler"
   ]
  },
  {
   "cell_type": "code",
   "execution_count": 16,
   "id": "1eafcfd5",
   "metadata": {},
   "outputs": [],
   "source": [
    "scaler = StandardScaler()"
   ]
  },
  {
   "cell_type": "code",
   "execution_count": 17,
   "id": "7ae1d139",
   "metadata": {
    "scrolled": false
   },
   "outputs": [
    {
     "data": {
      "text/plain": [
       "array([[-1.01827123,  1.2864604 ],\n",
       "       [-0.7730102 ,  2.43545215],\n",
       "       [-0.03722712, -0.78172474],\n",
       "       [ 0.20803391,  0.8268637 ],\n",
       "       [ 1.06644751,  0.13746866],\n",
       "       [-0.52774918,  1.97585545],\n",
       "       [-0.52774918,  1.51625875],\n",
       "       [-0.40511866, -1.47111979],\n",
       "       [ 0.57592545, -0.55192639],\n",
       "       [ 0.69855596,  0.13746866],\n",
       "       [ 0.94381699, -0.09232969],\n",
       "       [ 1.67960008,  1.2864604 ],\n",
       "       [-0.15985763, -0.32212804],\n",
       "       [ 2.17012213, -0.09232969],\n",
       "       [-0.28248815, -0.09232969],\n",
       "       [-0.89564072,  1.05666205],\n",
       "       [ 2.29275265, -0.55192639],\n",
       "       [-0.03722712, -0.78172474],\n",
       "       [-0.7730102 ,  0.8268637 ],\n",
       "       [-1.01827123,  1.05666205],\n",
       "       [-0.89564072,  1.7460571 ],\n",
       "       [-1.01827123, -2.39031318],\n",
       "       [ 0.57592545, -0.78172474],\n",
       "       [-1.26353226,  0.8268637 ],\n",
       "       [-1.01827123, -0.09232969],\n",
       "       [-0.89564072,  0.59706535],\n",
       "       [-0.28248815, -0.78172474],\n",
       "       [-0.89564072,  0.8268637 ],\n",
       "       [-0.15985763, -0.09232969],\n",
       "       [ 2.29275265,  1.7460571 ],\n",
       "       [-1.50879329,  0.367267  ],\n",
       "       [ 0.45329494, -0.32212804],\n",
       "       [-0.15985763, -1.24132144],\n",
       "       [-0.40511866,  2.66525049],\n",
       "       [ 0.20803391, -0.09232969],\n",
       "       [-0.03722712, -0.78172474],\n",
       "       [ 0.20803391, -1.93071649],\n",
       "       [-0.52774918, -0.09232969],\n",
       "       [ 0.45329494,  0.8268637 ],\n",
       "       [-0.40511866, -1.70091814],\n",
       "       [-0.52774918,  1.97585545],\n",
       "       [-1.01827123, -1.70091814],\n",
       "       [ 0.69855596, -0.78172474],\n",
       "       [-1.01827123,  0.59706535],\n",
       "       [-1.01827123,  0.367267  ],\n",
       "       [-0.40511866, -1.47111979],\n",
       "       [ 1.06644751, -0.09232969],\n",
       "       [-1.14090175,  0.13746866],\n",
       "       [-0.03722712, -0.55192639],\n",
       "       [-1.01827123,  0.8268637 ],\n",
       "       [-1.01827123,  1.05666205],\n",
       "       [ 0.08540339,  0.367267  ],\n",
       "       [-0.89564072, -1.24132144],\n",
       "       [ 1.31170853,  0.367267  ],\n",
       "       [ 0.20803391, -0.78172474],\n",
       "       [ 0.33066442, -1.01152309],\n",
       "       [ 2.29275265, -0.09232969],\n",
       "       [-0.40511866, -1.24132144],\n",
       "       [-1.75405432, -0.32212804],\n",
       "       [-1.87668483, -0.09232969],\n",
       "       [ 0.20803391, -1.93071649],\n",
       "       [ 1.67960008,  0.367267  ],\n",
       "       [-1.50879329,  0.13746866],\n",
       "       [-0.89564072,  1.05666205],\n",
       "       [-1.75405432, -0.09232969],\n",
       "       [ 0.57592545, -1.24132144],\n",
       "       [ 0.57592545,  0.8268637 ],\n",
       "       [-1.50879329,  0.8268637 ],\n",
       "       [ 1.18907802, -0.09232969],\n",
       "       [ 0.57592545,  0.59706535],\n",
       "       [-1.38616278,  0.367267  ],\n",
       "       [ 0.33066442, -0.32212804],\n",
       "       [ 0.82118648, -0.55192639],\n",
       "       [ 0.45329494, -0.55192639],\n",
       "       [ 1.43433905,  0.367267  ],\n",
       "       [ 0.69855596,  0.367267  ],\n",
       "       [-0.89564072,  1.7460571 ],\n",
       "       [ 1.31170853,  0.13746866],\n",
       "       [ 0.08540339, -0.09232969],\n",
       "       [ 0.82118648, -0.09232969],\n",
       "       [-0.15985763, -1.01152309],\n",
       "       [-0.7730102 , -0.78172474],\n",
       "       [ 0.33066442, -0.09232969],\n",
       "       [-1.6314238 , -1.70091814],\n",
       "       [ 0.94381699, -0.32212804],\n",
       "       [-0.40511866, -1.01152309],\n",
       "       [-0.65037969,  1.51625875],\n",
       "       [-0.28248815, -0.09232969],\n",
       "       [ 1.80223059, -0.32212804],\n",
       "       [ 1.06644751,  0.59706535],\n",
       "       [-0.89564072,  1.51625875],\n",
       "       [-1.14090175, -1.47111979],\n",
       "       [ 1.06644751,  0.59706535],\n",
       "       [ 1.67960008, -0.09232969],\n",
       "       [-1.14090175,  1.2864604 ],\n",
       "       [ 1.06644751,  0.13746866],\n",
       "       [-1.14090175, -0.09232969],\n",
       "       [ 1.31170853,  0.13746866],\n",
       "       [ 1.9248611 , -0.55192639],\n",
       "       [ 0.57592545, -0.32212804],\n",
       "       [-0.15985763, -0.55192639],\n",
       "       [ 0.82118648, -0.09232969],\n",
       "       [ 0.57592545, -1.70091814],\n",
       "       [ 0.69855596, -0.32212804],\n",
       "       [-0.28248815, -0.55192639],\n",
       "       [ 0.08540339, -0.09232969],\n",
       "       [-0.52774918,  0.8268637 ],\n",
       "       [ 0.33066442, -0.55192639],\n",
       "       [-1.14090175, -1.24132144],\n",
       "       [-0.03722712,  2.2056538 ],\n",
       "       [-0.03722712, -1.01152309],\n",
       "       [ 1.55696956, -0.09232969]])"
      ]
     },
     "execution_count": 17,
     "metadata": {},
     "output_type": "execute_result"
    }
   ],
   "source": [
    "# Отбросываем целевую переменную и оставляем только два признака - sepal_length и sepal_width\n",
    "X_scaled = scaler.fit_transform(X_train)\n",
    "X_scaled"
   ]
  },
  {
   "cell_type": "code",
   "execution_count": 18,
   "id": "c0c3e63e",
   "metadata": {},
   "outputs": [
    {
     "data": {
      "text/plain": [
       "Text(0, 0.5, 'Инерция')"
      ]
     },
     "execution_count": 18,
     "metadata": {},
     "output_type": "execute_result"
    },
    {
     "data": {
      "image/png": "[encoded data removed]",
      "text/plain": [
       "<Figure size 432x288 with 1 Axes>"
      ]
     },
     "metadata": {
      "needs_background": "light"
     },
     "output_type": "display_data"
    }
   ],
   "source": [
    "#Подбираем оптимальное число кластеров для алгоритма kmeans через визуализацию на графике локтя\n",
    "from sklearn.cluster import KMeans\n",
    "# создаем список для инерции\n",
    "k_inertia = []\n",
    "# задаем диапазон кластеров\n",
    "ks = range(1, 10)\n",
    "\n",
    "for k in ks:\n",
    "    clf_kmeans = KMeans(n_clusters=k)\n",
    "    clf_kmeans.fit(X_scaled)\n",
    "    # добавляем инерцию каждой модели в список\n",
    "    k_inertia.append(clf_kmeans.inertia_)\n",
    "    \n",
    "plt.plot(ks, k_inertia)\n",
    "plt.plot(ks, k_inertia ,'ro')\n",
    "plt.xlabel('Количество кластеров')\n",
    "plt.ylabel('Инерция')"
   ]
  },
  {
   "cell_type": "code",
   "execution_count": 19,
   "id": "0e8d71d3",
   "metadata": {},
   "outputs": [
    {
     "data": {
      "text/plain": [
       "<matplotlib.collections.PathCollection at 0x7fc1bdee1430>"
      ]
     },
     "execution_count": 19,
     "metadata": {},
     "output_type": "execute_result"
    },
    {
     "data": {
      "image/png": "[encoded data removed]",
      "text/plain": [
       "<Figure size 432x288 with 1 Axes>"
      ]
     },
     "metadata": {
      "needs_background": "light"
     },
     "output_type": "display_data"
    }
   ],
   "source": [
    "#Визуализируем кластеризацию\n",
    "# на основе графика локтя указываем 3 кластера\n",
    "kmeans = KMeans(n_clusters=3)\n",
    "# Обучаем и каждому объекту присваиваеи кластер\n",
    "clusters = kmeans.fit_predict(X_scaled)\n",
    "plt.scatter(X_scaled[:, 0], X_scaled[:, 1], cmap='cool', c=clusters, s=60)"
   ]
  }
 ],
 "metadata": {
  "kernelspec": {
   "display_name": "Python 3 (ipykernel)",
   "language": "python",
   "name": "python3"
  },
  "language_info": {
   "codemirror_mode": {
    "name": "ipython",
    "version": 3
   },
   "file_extension": ".py",
   "mimetype": "text/x-python",
   "name": "python",
   "nbconvert_exporter": "python",
   "pygments_lexer": "ipython3",
   "version": "3.9.7"
  }
 },
 "nbformat": 4,
 "nbformat_minor": 5
}
