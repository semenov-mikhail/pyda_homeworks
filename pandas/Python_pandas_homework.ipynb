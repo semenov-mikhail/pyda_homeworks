{
 "cells": [
  {
   "cell_type": "markdown",
   "id": "d15758eb",
   "metadata": {},
   "source": [
    "# Задание 1\n",
    "Скачайте с сайта https://grouplens.org/datasets/movielens/ датасет любого размера. Определите, какому фильму было выставлено больше всего оценок 5.0."
   ]
  },
  {
   "cell_type": "code",
   "execution_count": 63,
   "id": "2a266d72",
   "metadata": {},
   "outputs": [],
   "source": [
    "import pandas as pd"
   ]
  },
  {
   "cell_type": "code",
   "execution_count": 64,
   "id": "504edcc3",
   "metadata": {},
   "outputs": [
    {
     "data": {
      "text/html": [
       "<div>\n",
       "<style scoped>\n",
       "    .dataframe tbody tr th:only-of-type {\n",
       "        vertical-align: middle;\n",
       "    }\n",
       "\n",
       "    .dataframe tbody tr th {\n",
       "        vertical-align: top;\n",
       "    }\n",
       "\n",
       "    .dataframe thead th {\n",
       "        text-align: right;\n",
       "    }\n",
       "</style>\n",
       "<table border=\"1\" class=\"dataframe\">\n",
       "  <thead>\n",
       "    <tr style=\"text-align: right;\">\n",
       "      <th></th>\n",
       "      <th>userId</th>\n",
       "      <th>movieId</th>\n",
       "      <th>rating</th>\n",
       "      <th>timestamp</th>\n",
       "    </tr>\n",
       "  </thead>\n",
       "  <tbody>\n",
       "    <tr>\n",
       "      <th>0</th>\n",
       "      <td>1</td>\n",
       "      <td>1</td>\n",
       "      <td>4.0</td>\n",
       "      <td>964982703</td>\n",
       "    </tr>\n",
       "    <tr>\n",
       "      <th>1</th>\n",
       "      <td>1</td>\n",
       "      <td>3</td>\n",
       "      <td>4.0</td>\n",
       "      <td>964981247</td>\n",
       "    </tr>\n",
       "    <tr>\n",
       "      <th>2</th>\n",
       "      <td>1</td>\n",
       "      <td>6</td>\n",
       "      <td>4.0</td>\n",
       "      <td>964982224</td>\n",
       "    </tr>\n",
       "    <tr>\n",
       "      <th>3</th>\n",
       "      <td>1</td>\n",
       "      <td>47</td>\n",
       "      <td>5.0</td>\n",
       "      <td>964983815</td>\n",
       "    </tr>\n",
       "    <tr>\n",
       "      <th>4</th>\n",
       "      <td>1</td>\n",
       "      <td>50</td>\n",
       "      <td>5.0</td>\n",
       "      <td>964982931</td>\n",
       "    </tr>\n",
       "  </tbody>\n",
       "</table>\n",
       "</div>"
      ],
      "text/plain": [
       "   userId  movieId  rating  timestamp\n",
       "0       1        1     4.0  964982703\n",
       "1       1        3     4.0  964981247\n",
       "2       1        6     4.0  964982224\n",
       "3       1       47     5.0  964983815\n",
       "4       1       50     5.0  964982931"
      ]
     },
     "execution_count": 64,
     "metadata": {},
     "output_type": "execute_result"
    }
   ],
   "source": [
    "raitings_df = pd.read_csv('ml-latest-small/ratings.csv')\n",
    "raitings_df.head()"
   ]
  },
  {
   "cell_type": "code",
   "execution_count": 70,
   "id": "f7f6efb2",
   "metadata": {},
   "outputs": [],
   "source": [
    "df = (\n",
    "    raitings_df[ ['movieId', 'rating'] ][ raitings_df['rating'] == 5.0 ]\n",
    "    .groupby(by='movieId')\n",
    "    .count()\n",
    "    .sort_values(by='rating', ascending=False)\n",
    "    .reset_index()\n",
    "    .head(1)\n",
    ")"
   ]
  },
  {
   "cell_type": "code",
   "execution_count": 69,
   "id": "aa016943",
   "metadata": {},
   "outputs": [
    {
     "data": {
      "text/plain": [
       "318    153\n",
       "Name: movieId, dtype: int64"
      ]
     },
     "execution_count": 69,
     "metadata": {},
     "output_type": "execute_result"
    }
   ],
   "source": [
    "#рекомендация преподавателя\n",
    "df = raitings_df[raitings_df.rating == 5].movieId.value_counts()\n",
    "df.head(1)"
   ]
  },
  {
   "cell_type": "code",
   "execution_count": 66,
   "id": "d31f1e8f",
   "metadata": {},
   "outputs": [],
   "source": [
    "movies_df = pd.read_csv('ml-latest-small/movies.csv')"
   ]
  },
  {
   "cell_type": "code",
   "execution_count": 71,
   "id": "15909783",
   "metadata": {},
   "outputs": [
    {
     "data": {
      "text/html": [
       "<div>\n",
       "<style scoped>\n",
       "    .dataframe tbody tr th:only-of-type {\n",
       "        vertical-align: middle;\n",
       "    }\n",
       "\n",
       "    .dataframe tbody tr th {\n",
       "        vertical-align: top;\n",
       "    }\n",
       "\n",
       "    .dataframe thead th {\n",
       "        text-align: right;\n",
       "    }\n",
       "</style>\n",
       "<table border=\"1\" class=\"dataframe\">\n",
       "  <thead>\n",
       "    <tr style=\"text-align: right;\">\n",
       "      <th></th>\n",
       "      <th>Movie_title</th>\n",
       "      <th>Num_of_5stars</th>\n",
       "    </tr>\n",
       "  </thead>\n",
       "  <tbody>\n",
       "    <tr>\n",
       "      <th>0</th>\n",
       "      <td>Shawshank Redemption, The (1994)</td>\n",
       "      <td>153</td>\n",
       "    </tr>\n",
       "  </tbody>\n",
       "</table>\n",
       "</div>"
      ],
      "text/plain": [
       "                        Movie_title  Num_of_5stars\n",
       "0  Shawshank Redemption, The (1994)            153"
      ]
     },
     "execution_count": 71,
     "metadata": {},
     "output_type": "execute_result"
    }
   ],
   "source": [
    "df = (\n",
    "    df.merge(movies_df, on='movieId')\n",
    "    .rename(columns={'title' : 'Movie_title', 'rating': 'Num_of_5stars'})\n",
    "    .reset_index()\n",
    ")\n",
    "df[ ['Movie_title', 'Num_of_5stars'] ]"
   ]
  },
  {
   "cell_type": "markdown",
   "id": "4729e6cc",
   "metadata": {},
   "source": [
    "# Задание 2\n",
    "По данным файла power.csv посчитайте суммарное потребление стран Прибалтики (Латвия, Литва и Эстония) категорий 4, 12 и 21 за период с 2005 по 2010 года. Не учитывайте в расчетах отрицательные значения quantity."
   ]
  },
  {
   "cell_type": "code",
   "execution_count": 6,
   "id": "6c726d5f",
   "metadata": {},
   "outputs": [
    {
     "data": {
      "text/html": [
       "<div>\n",
       "<style scoped>\n",
       "    .dataframe tbody tr th:only-of-type {\n",
       "        vertical-align: middle;\n",
       "    }\n",
       "\n",
       "    .dataframe tbody tr th {\n",
       "        vertical-align: top;\n",
       "    }\n",
       "\n",
       "    .dataframe thead th {\n",
       "        text-align: right;\n",
       "    }\n",
       "</style>\n",
       "<table border=\"1\" class=\"dataframe\">\n",
       "  <thead>\n",
       "    <tr style=\"text-align: right;\">\n",
       "      <th></th>\n",
       "      <th>country</th>\n",
       "      <th>year</th>\n",
       "      <th>quantity</th>\n",
       "      <th>category</th>\n",
       "    </tr>\n",
       "  </thead>\n",
       "  <tbody>\n",
       "    <tr>\n",
       "      <th>0</th>\n",
       "      <td>Austria</td>\n",
       "      <td>1996</td>\n",
       "      <td>5.0</td>\n",
       "      <td>1</td>\n",
       "    </tr>\n",
       "    <tr>\n",
       "      <th>1</th>\n",
       "      <td>Austria</td>\n",
       "      <td>1995</td>\n",
       "      <td>17.0</td>\n",
       "      <td>1</td>\n",
       "    </tr>\n",
       "    <tr>\n",
       "      <th>2</th>\n",
       "      <td>Belgium</td>\n",
       "      <td>2014</td>\n",
       "      <td>0.0</td>\n",
       "      <td>1</td>\n",
       "    </tr>\n",
       "    <tr>\n",
       "      <th>3</th>\n",
       "      <td>Belgium</td>\n",
       "      <td>2013</td>\n",
       "      <td>0.0</td>\n",
       "      <td>1</td>\n",
       "    </tr>\n",
       "    <tr>\n",
       "      <th>4</th>\n",
       "      <td>Belgium</td>\n",
       "      <td>2012</td>\n",
       "      <td>35.0</td>\n",
       "      <td>1</td>\n",
       "    </tr>\n",
       "  </tbody>\n",
       "</table>\n",
       "</div>"
      ],
      "text/plain": [
       "   country  year  quantity  category\n",
       "0  Austria  1996       5.0         1\n",
       "1  Austria  1995      17.0         1\n",
       "2  Belgium  2014       0.0         1\n",
       "3  Belgium  2013       0.0         1\n",
       "4  Belgium  2012      35.0         1"
      ]
     },
     "execution_count": 6,
     "metadata": {},
     "output_type": "execute_result"
    }
   ],
   "source": [
    "power_df = pd.read_csv('10._Основы_pandas/power.csv')\n",
    "power_df.head()"
   ]
  },
  {
   "cell_type": "code",
   "execution_count": 7,
   "id": "f4eddb67",
   "metadata": {},
   "outputs": [
    {
     "data": {
      "text/plain": [
       "array(['Lithuania', 'Lesotho', 'Latvia', 'Luxembourg', 'Estonia',\n",
       "       \"Lao People's Dem. Rep.\", 'Liberia', 'Libya', 'Sri Lanka',\n",
       "       'Sierra Leone', 'Lebanon', 'St. Lucia', 'Timor-Leste',\n",
       "       'Liechtenstein'], dtype=object)"
      ]
     },
     "execution_count": 7,
     "metadata": {},
     "output_type": "execute_result"
    }
   ],
   "source": [
    "power_df[ power_df['country'].str.contains('L|Es', case=True) ]['country'].unique()"
   ]
  },
  {
   "cell_type": "code",
   "execution_count": 72,
   "id": "05c3b721",
   "metadata": {},
   "outputs": [
    {
     "data": {
      "text/html": [
       "<div>\n",
       "<style scoped>\n",
       "    .dataframe tbody tr th:only-of-type {\n",
       "        vertical-align: middle;\n",
       "    }\n",
       "\n",
       "    .dataframe tbody tr th {\n",
       "        vertical-align: top;\n",
       "    }\n",
       "\n",
       "    .dataframe thead th {\n",
       "        text-align: right;\n",
       "    }\n",
       "</style>\n",
       "<table border=\"1\" class=\"dataframe\">\n",
       "  <thead>\n",
       "    <tr style=\"text-align: right;\">\n",
       "      <th></th>\n",
       "      <th>index</th>\n",
       "      <th>country</th>\n",
       "      <th>year</th>\n",
       "      <th>quantity</th>\n",
       "      <th>category</th>\n",
       "    </tr>\n",
       "  </thead>\n",
       "  <tbody>\n",
       "    <tr>\n",
       "      <th>121</th>\n",
       "      <td>204794</td>\n",
       "      <td>Latvia</td>\n",
       "      <td>2007</td>\n",
       "      <td>0.0</td>\n",
       "      <td>21</td>\n",
       "    </tr>\n",
       "    <tr>\n",
       "      <th>223</th>\n",
       "      <td>252595</td>\n",
       "      <td>Lithuania</td>\n",
       "      <td>2008</td>\n",
       "      <td>0.0</td>\n",
       "      <td>21</td>\n",
       "    </tr>\n",
       "    <tr>\n",
       "      <th>19</th>\n",
       "      <td>116900</td>\n",
       "      <td>Lithuania</td>\n",
       "      <td>2005</td>\n",
       "      <td>3.0</td>\n",
       "      <td>12</td>\n",
       "    </tr>\n",
       "    <tr>\n",
       "      <th>63</th>\n",
       "      <td>224872</td>\n",
       "      <td>Latvia</td>\n",
       "      <td>2006</td>\n",
       "      <td>5.0</td>\n",
       "      <td>21</td>\n",
       "    </tr>\n",
       "    <tr>\n",
       "      <th>202</th>\n",
       "      <td>228614</td>\n",
       "      <td>Lithuania</td>\n",
       "      <td>2008</td>\n",
       "      <td>213.0</td>\n",
       "      <td>21</td>\n",
       "    </tr>\n",
       "    <tr>\n",
       "      <th>387</th>\n",
       "      <td>238504</td>\n",
       "      <td>Lithuania</td>\n",
       "      <td>2010</td>\n",
       "      <td>876.0</td>\n",
       "      <td>21</td>\n",
       "    </tr>\n",
       "    <tr>\n",
       "      <th>313</th>\n",
       "      <td>205225</td>\n",
       "      <td>Lithuania</td>\n",
       "      <td>2009</td>\n",
       "      <td>760.0</td>\n",
       "      <td>21</td>\n",
       "    </tr>\n",
       "    <tr>\n",
       "      <th>49</th>\n",
       "      <td>17678</td>\n",
       "      <td>Estonia</td>\n",
       "      <td>2005</td>\n",
       "      <td>1.0</td>\n",
       "      <td>4</td>\n",
       "    </tr>\n",
       "    <tr>\n",
       "      <th>197</th>\n",
       "      <td>232012</td>\n",
       "      <td>Estonia</td>\n",
       "      <td>2008</td>\n",
       "      <td>2612.0</td>\n",
       "      <td>21</td>\n",
       "    </tr>\n",
       "    <tr>\n",
       "      <th>369</th>\n",
       "      <td>233210</td>\n",
       "      <td>Latvia</td>\n",
       "      <td>2010</td>\n",
       "      <td>967.0</td>\n",
       "      <td>21</td>\n",
       "    </tr>\n",
       "    <tr>\n",
       "      <th>354</th>\n",
       "      <td>219766</td>\n",
       "      <td>Lithuania</td>\n",
       "      <td>2010</td>\n",
       "      <td>133.0</td>\n",
       "      <td>21</td>\n",
       "    </tr>\n",
       "    <tr>\n",
       "      <th>228</th>\n",
       "      <td>16068</td>\n",
       "      <td>Lithuania</td>\n",
       "      <td>2008</td>\n",
       "      <td>1.0</td>\n",
       "      <td>4</td>\n",
       "    </tr>\n",
       "    <tr>\n",
       "      <th>47</th>\n",
       "      <td>247355</td>\n",
       "      <td>Estonia</td>\n",
       "      <td>2005</td>\n",
       "      <td>2559.0</td>\n",
       "      <td>21</td>\n",
       "    </tr>\n",
       "    <tr>\n",
       "      <th>186</th>\n",
       "      <td>121181</td>\n",
       "      <td>Lithuania</td>\n",
       "      <td>2007</td>\n",
       "      <td>6.0</td>\n",
       "      <td>12</td>\n",
       "    </tr>\n",
       "    <tr>\n",
       "      <th>181</th>\n",
       "      <td>111439</td>\n",
       "      <td>Lithuania</td>\n",
       "      <td>2007</td>\n",
       "      <td>8.0</td>\n",
       "      <td>12</td>\n",
       "    </tr>\n",
       "    <tr>\n",
       "      <th>77</th>\n",
       "      <td>221416</td>\n",
       "      <td>Estonia</td>\n",
       "      <td>2006</td>\n",
       "      <td>26.0</td>\n",
       "      <td>21</td>\n",
       "    </tr>\n",
       "    <tr>\n",
       "      <th>0</th>\n",
       "      <td>253986</td>\n",
       "      <td>Lithuania</td>\n",
       "      <td>2005</td>\n",
       "      <td>1.0</td>\n",
       "      <td>21</td>\n",
       "    </tr>\n",
       "    <tr>\n",
       "      <th>362</th>\n",
       "      <td>252593</td>\n",
       "      <td>Lithuania</td>\n",
       "      <td>2010</td>\n",
       "      <td>0.0</td>\n",
       "      <td>21</td>\n",
       "    </tr>\n",
       "    <tr>\n",
       "      <th>251</th>\n",
       "      <td>215661</td>\n",
       "      <td>Latvia</td>\n",
       "      <td>2008</td>\n",
       "      <td>1531.0</td>\n",
       "      <td>21</td>\n",
       "    </tr>\n",
       "    <tr>\n",
       "      <th>145</th>\n",
       "      <td>227715</td>\n",
       "      <td>Estonia</td>\n",
       "      <td>2007</td>\n",
       "      <td>29.0</td>\n",
       "      <td>21</td>\n",
       "    </tr>\n",
       "  </tbody>\n",
       "</table>\n",
       "</div>"
      ],
      "text/plain": [
       "      index    country  year  quantity  category\n",
       "121  204794     Latvia  2007       0.0        21\n",
       "223  252595  Lithuania  2008       0.0        21\n",
       "19   116900  Lithuania  2005       3.0        12\n",
       "63   224872     Latvia  2006       5.0        21\n",
       "202  228614  Lithuania  2008     213.0        21\n",
       "387  238504  Lithuania  2010     876.0        21\n",
       "313  205225  Lithuania  2009     760.0        21\n",
       "49    17678    Estonia  2005       1.0         4\n",
       "197  232012    Estonia  2008    2612.0        21\n",
       "369  233210     Latvia  2010     967.0        21\n",
       "354  219766  Lithuania  2010     133.0        21\n",
       "228   16068  Lithuania  2008       1.0         4\n",
       "47   247355    Estonia  2005    2559.0        21\n",
       "186  121181  Lithuania  2007       6.0        12\n",
       "181  111439  Lithuania  2007       8.0        12\n",
       "77   221416    Estonia  2006      26.0        21\n",
       "0    253986  Lithuania  2005       1.0        21\n",
       "362  252593  Lithuania  2010       0.0        21\n",
       "251  215661     Latvia  2008    1531.0        21\n",
       "145  227715    Estonia  2007      29.0        21"
      ]
     },
     "execution_count": 72,
     "metadata": {},
     "output_type": "execute_result"
    }
   ],
   "source": [
    "filtered_countries = (\n",
    "    power_df[ (power_df['country'].isin(['Latvia', 'Estonia', 'Lithuania']))\\\n",
    "            & ((power_df['year'] >= 2005) & (power_df['year'] <= 2010))\\\n",
    "            & ((power_df['category'] == 4) | (power_df['category'] == 12) | (power_df['category'] == 21))\\\n",
    "            & (power_df['quantity'] >= 0)]\n",
    "    .sort_values(by='year', ascending=True)\n",
    "    .reset_index()\n",
    ")\n",
    "filtered_countries.sample(20)"
   ]
  },
  {
   "cell_type": "code",
   "execution_count": 73,
   "id": "7847e0dc",
   "metadata": {},
   "outputs": [
    {
     "name": "stdout",
     "output_type": "stream",
     "text": [
      "Cуммарное потребление стран Прибалтики составляет 240580\n"
     ]
    }
   ],
   "source": [
    "print(f'Cуммарное потребление стран Прибалтики составляет {int(filtered_countries[\"quantity\"].sum())}')"
   ]
  },
  {
   "cell_type": "markdown",
   "id": "c35dad3e",
   "metadata": {},
   "source": [
    "# Задание 3\n",
    "Выберите страницу любого сайта с табличными данными. Импортируйте таблицы в pandas dataframe."
   ]
  },
  {
   "cell_type": "code",
   "execution_count": 54,
   "id": "a811246c",
   "metadata": {},
   "outputs": [],
   "source": [
    "page_url = 'https://fortrader.org/bankrates'\n",
    "web_df = pd.read_html(page_url, attrs = {'class': 'items table table-striped table-bordered table-hover'}, encoding='utf-8')"
   ]
  },
  {
   "cell_type": "code",
   "execution_count": 56,
   "id": "eaaf21b9",
   "metadata": {},
   "outputs": [
    {
     "data": {
      "text/plain": [
       "[   Страна                                Банк  \\\n",
       " 0     NaN                   ЦБ РФ Банк России   \n",
       " 1     NaN    ЕЦБ Европейский Центральный Банк   \n",
       " 2     NaN   ФРС Федеральная Резервная Система   \n",
       " 3     NaN        РБА Резервный Банк Австралии   \n",
       " 4     NaN                     BOJ Банк Японии   \n",
       " 5     NaN  РБНЗ Резервный Банк Новой Зеландии   \n",
       " 6     NaN                  SNB Банк Швейцарии   \n",
       " 7     NaN                     BOC Банк Канады   \n",
       " 8     NaN                     BOE Банк Англии   \n",
       " \n",
       "                                          Название Значение  \\\n",
       " 0                                 Ключевая ставка     7.5%   \n",
       " 1                             Ставка по депозитам       2%   \n",
       " 2                              Федеральный Резерв       4%   \n",
       " 3                               Процентная ставка    2.85%   \n",
       " 4           Целевая процентная ставка по овернайт    -0.1%   \n",
       " 5                               Процентная ставка     3.5%   \n",
       " 6  Диапазон трехмесячной процентной ставки LIibor     0.5%   \n",
       " 7           Целевая процентная ставка по овернайт    3.25%   \n",
       " 8                               Процентная ставка       3%   \n",
       " \n",
       "   Последнее заседание Следующее заседание  \n",
       " 0  16.09.2022 (-0.5%)          28.10.2022  \n",
       " 1  27.10.2022 (0.75%)                 NaN  \n",
       " 2  02.11.2022 (0.75%)          14.12.2022  \n",
       " 3  01.11.2022 (0.25%)                 NaN  \n",
       " 4          28.10.2022                 NaN  \n",
       " 5   05.10.2022 (0.5%)                 NaN  \n",
       " 6  22.09.2022 (0.75%)                 NaN  \n",
       " 7  07.09.2022 (0.75%)          26.10.2022  \n",
       " 8  03.11.2022 (0.75%)                 NaN  ]"
      ]
     },
     "execution_count": 56,
     "metadata": {},
     "output_type": "execute_result"
    }
   ],
   "source": [
    "web_df"
   ]
  }
 ],
 "metadata": {
  "kernelspec": {
   "display_name": "Python 3 (ipykernel)",
   "language": "python",
   "name": "python3"
  },
  "language_info": {
   "codemirror_mode": {
    "name": "ipython",
    "version": 3
   },
   "file_extension": ".py",
   "mimetype": "text/x-python",
   "name": "python",
   "nbconvert_exporter": "python",
   "pygments_lexer": "ipython3",
   "version": "3.9.7"
  }
 },
 "nbformat": 4,
 "nbformat_minor": 5
}
