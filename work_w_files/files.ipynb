{
 "cells": [
  {
   "cell_type": "markdown",
   "id": "e55ff049",
   "metadata": {},
   "source": [
    "# Домашнее задание к лекции Работа с файловой системой и модули"
   ]
  },
  {
   "cell_type": "markdown",
   "id": "e2dac0ef",
   "metadata": {},
   "source": [
    "1. Переведите содержимое файла purchase_log.txt в словарь purchases вида:\n",
    "{'1840e0b9d4': 'Продукты', …}\n",
    "\n",
    "2. Для каждого user_id в файле visit_log.csv определите третий столбец с категорией покупки (если покупка была, сам файл visit_log.csv изменять не надо). \n",
    "Запишите в файл funnel.csv визиты из файла visit_log.csv, в которых были покупки с указанием категории.\n",
    "Учтите условия на данные:\n",
    "содержимое purchase_log.txt помещается в оперативную память компьютера\n",
    "содержимое visit_log.csv - нет; используйте только построчную обработку этого файла"
   ]
  },
  {
   "cell_type": "markdown",
   "id": "252f0147",
   "metadata": {},
   "source": [
    "# Решение"
   ]
  },
  {
   "cell_type": "code",
   "execution_count": 1,
   "id": "598ce07b",
   "metadata": {},
   "outputs": [],
   "source": [
    "import json"
   ]
  },
  {
   "cell_type": "code",
   "execution_count": 8,
   "id": "1758b7a0",
   "metadata": {},
   "outputs": [],
   "source": [
    "i = 0\n",
    "purchases = {}\n",
    "with open('data/purchase_log.txt') as f:\n",
    "    f.readline()\n",
    "    for line in f:\n",
    "        line = line.strip()\n",
    "        data = json.loads(line)\n",
    "        purchases[data['user_id']] = data['category']     "
   ]
  },
  {
   "cell_type": "code",
   "execution_count": 9,
   "id": "84a914d2",
   "metadata": {},
   "outputs": [],
   "source": [
    "with open('data/visit_log.csv') as f_visits:\n",
    "    with open('data/funnel.csv', 'w') as f_write:\n",
    "        for line in f_visits:\n",
    "            line = line.strip().split(',')\n",
    "            if line[0] in purchases:\n",
    "                line_to_write = f'{line[0]}, {purchases.get(line[0])}\\n'\n",
    "                f_write.write(line_to_write)"
   ]
  }
 ],
 "metadata": {
  "kernelspec": {
   "display_name": "Python 3 (ipykernel)",
   "language": "python",
   "name": "python3"
  },
  "language_info": {
   "codemirror_mode": {
    "name": "ipython",
    "version": 3
   },
   "file_extension": ".py",
   "mimetype": "text/x-python",
   "name": "python",
   "nbconvert_exporter": "python",
   "pygments_lexer": "ipython3",
   "version": "3.9.7"
  }
 },
 "nbformat": 4,
 "nbformat_minor": 5
}
